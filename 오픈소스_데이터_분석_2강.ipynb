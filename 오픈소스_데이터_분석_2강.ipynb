{
  "cells": [
    {
      "cell_type": "markdown",
      "metadata": {
        "id": "view-in-github",
        "colab_type": "text"
      },
      "source": [
        "<a href=\"https://colab.research.google.com/github/ByoungjaeLee/Data-Analysis-with-Open-Source/blob/main/%EC%98%A4%ED%94%88%EC%86%8C%EC%8A%A4_%EB%8D%B0%EC%9D%B4%ED%84%B0_%EB%B6%84%EC%84%9D_2%EA%B0%95.ipynb\" target=\"_parent\"><img src=\"https://colab.research.google.com/assets/colab-badge.svg\" alt=\"Open In Colab\"/></a>"
      ]
    },
    {
      "cell_type": "markdown",
      "metadata": {
        "id": "DkPKaAsoRq5Q"
      },
      "source": [
        "\n",
        "\n",
        "# 오픈소스 기반 데이터 분석 2강 - 데이터 분석을 위한 파이썬 1\n"
      ]
    },
    {
      "cell_type": "markdown",
      "metadata": {
        "id": "-I7BVVlnRrB0"
      },
      "source": [
        "## 2-1 리스트 슬라이싱"
      ]
    },
    {
      "cell_type": "code",
      "execution_count": 1,
      "metadata": {
        "id": "2Y2HEiaiRwAI",
        "outputId": "976878c1-ecd9-470b-b6e7-4bfb890d2602",
        "colab": {
          "base_uri": "https://localhost:8080/"
        }
      },
      "outputs": [
        {
          "output_type": "stream",
          "name": "stdout",
          "text": [
            "[10, 20, 30, 40]\n",
            "[50, 60, 70]\n"
          ]
        }
      ],
      "source": [
        "numbers = [10, 20, 30, 40, 50, 60, 70]\n",
        "# 첫 4개의 원소 출력\n",
        "first_four = numbers[0: 4]\n",
        "print(first_four)\n",
        "# 뒤 3개의 원소를 출력\n",
        "last_three = numbers[-3: 7]\n",
        "print(last_three)"
      ]
    },
    {
      "cell_type": "code",
      "execution_count": 3,
      "metadata": {
        "id": "IO8bsKekR0W_",
        "outputId": "2a659970-d425-4706-fbdd-11b8dad543ff",
        "colab": {
          "base_uri": "https://localhost:8080/"
        }
      },
      "outputs": [
        {
          "output_type": "stream",
          "name": "stdout",
          "text": [
            "[10, 30, 50, 70]\n",
            "[70, 60, 50, 40, 30, 20, 10]\n"
          ]
        }
      ],
      "source": [
        "numbers = [10, 20, 30, 40, 50, 60, 70]\n",
        "\n",
        "# 홀수번째 항목 출력\n",
        "every_other_list = numbers[::2]\n",
        "print(every_other_list)\n",
        "\n",
        "# 역순 출력\n",
        "reverse_list = numbers[::-1]\n",
        "print(reverse_list)"
      ]
    },
    {
      "cell_type": "code",
      "execution_count": 4,
      "metadata": {
        "id": "60qOf7uxVdAg",
        "outputId": "75f63f56-0e27-4572-813c-18f7ce0eac10",
        "colab": {
          "base_uri": "https://localhost:8080/"
        }
      },
      "outputs": [
        {
          "output_type": "stream",
          "name": "stdout",
          "text": [
            "[[1, 2, 3, 4], [5, 6, 7, 8]]\n",
            "[[1, 2], [5, 6], [9, 10], [13, 14]]\n"
          ]
        }
      ],
      "source": [
        "matrix = [\n",
        "    [1, 2, 3, 4],\n",
        "    [5, 6, 7, 8],\n",
        "    [9, 10, 11, 12],\n",
        "    [13, 14, 15, 16]\n",
        "]\n",
        "\n",
        "# 첫 두 행 출력\n",
        "first_two_rows = matrix[0:2]\n",
        "print(first_two_rows)\n",
        "\n",
        "# 첫 두 열 출력\n",
        "first_two_columns = [row[0:2] for row in matrix]\n",
        "print(first_two_columns)"
      ]
    },
    {
      "cell_type": "markdown",
      "metadata": {
        "id": "eOMufu5SXiAU"
      },
      "source": [
        "## 2-2 리스트 컴프리헨션"
      ]
    },
    {
      "cell_type": "code",
      "execution_count": 7,
      "metadata": {
        "id": "JpmgdsW9V0CY",
        "outputId": "96323b99-3ca4-41ac-9f71-d3a87213a127",
        "colab": {
          "base_uri": "https://localhost:8080/"
        }
      },
      "outputs": [
        {
          "output_type": "stream",
          "name": "stdout",
          "text": [
            "[0, 1, 2, 3, 4]\n"
          ]
        }
      ],
      "source": [
        "numbers = [ ]\n",
        "\n",
        "# 0 ~ 4 포함 리스트 생성\n",
        "#for i in range(5):\n",
        "#    numbers.append(i)\n",
        "\n",
        "numbers = [num for num in range(5)]\n",
        "\n",
        "print(numbers)"
      ]
    },
    {
      "cell_type": "code",
      "execution_count": 8,
      "metadata": {
        "id": "cRC8x3_iW0im",
        "outputId": "bb7077b5-3e6f-4e3e-fb6c-1c146b416df6",
        "colab": {
          "base_uri": "https://localhost:8080/"
        }
      },
      "outputs": [
        {
          "output_type": "stream",
          "name": "stdout",
          "text": [
            "[1, 4, 9, 16, 25]\n"
          ]
        }
      ],
      "source": [
        "numbers = [1, 2, 3, 4, 5]\n",
        "squares = [ ]\n",
        "\n",
        "# numbers의 모든 항목의 값을 제곱한 리스트\n",
        "#for num in numbers:\n",
        "#  squares.append(num ** 2)\n",
        "\n",
        "squares = [ num ** 2 for num in numbers]\n",
        "\n",
        "print(squares)"
      ]
    },
    {
      "cell_type": "code",
      "execution_count": 9,
      "metadata": {
        "id": "MAvimjk6Fqlc",
        "outputId": "18624e27-68ac-48ed-d93c-1b988f47b13c",
        "colab": {
          "base_uri": "https://localhost:8080/"
        }
      },
      "outputs": [
        {
          "output_type": "stream",
          "name": "stdout",
          "text": [
            "[2, 4, 6, 8, 10]\n"
          ]
        }
      ],
      "source": [
        "numbers = [1, 2, 3, 4, 5, 6, 7, 8, 9, 10]\n",
        "even_numbers = [ ]\n",
        "\n",
        "# 짝수만 추출한 리스트\n",
        "#for num in numbers:\n",
        "#    if num % 2 == 0:\n",
        "#        even_numbers.append(num)\n",
        "\n",
        "even_numbers = [num for num in numbers if num % 2 == 0]\n",
        "\n",
        "print(even_numbers)"
      ]
    },
    {
      "cell_type": "code",
      "execution_count": 11,
      "metadata": {
        "id": "HGO8XTxBFqld",
        "outputId": "2b8abe53-698e-43c0-d22f-72980f2964c3",
        "colab": {
          "base_uri": "https://localhost:8080/"
        }
      },
      "outputs": [
        {
          "output_type": "stream",
          "name": "stdout",
          "text": [
            "[('사과', '주스'), ('사과', '잼'), ('사과', '통조림'), ('복숭아', '주스'), ('복숭아', '잼'), ('복숭아', '통조림'), ('바나나', '주스'), ('바나나', '잼'), ('바나나', '통조림')]\n"
          ]
        }
      ],
      "source": [
        "list1 = ['사과', '복숭아', '바나나']\n",
        "list2 = ['주스', '잼', '통조림']\n",
        "pairs = [ ]\n",
        "\n",
        "# 두 리스트에 포함되 모든 원소를 조합한 투플의 리스트 생성\n",
        "#for fruit in list1:\n",
        "#    for product in list2:\n",
        "#        pairs.append((fruit, product))\n",
        "\n",
        "pairs = [(fruit, product) for fruit in list1 for product in list2]\n",
        "\n",
        "print(pairs)"
      ]
    },
    {
      "cell_type": "code",
      "execution_count": 12,
      "metadata": {
        "id": "K-BPhFTUFqle",
        "outputId": "ebae7e39-257d-4cf3-a455-47ba9aac4466",
        "colab": {
          "base_uri": "https://localhost:8080/"
        }
      },
      "outputs": [
        {
          "output_type": "stream",
          "name": "stdout",
          "text": [
            "{0: 0, 1: 1, 2: 4, 3: 9, 4: 16}\n"
          ]
        }
      ],
      "source": [
        "squares = { }\n",
        "\n",
        "# 딕셔너리 생성\n",
        "#for i in range(5):\n",
        "#    squares[i] = i ** 2\n",
        "\n",
        "squares = {i: i ** 2 for i in range(5)}\n",
        "\n",
        "print(squares)"
      ]
    },
    {
      "cell_type": "code",
      "execution_count": 16,
      "metadata": {
        "id": "UoTcC8-GFqlf",
        "outputId": "b2c2b029-ba9e-4375-b41b-7d3d831821ff",
        "colab": {
          "base_uri": "https://localhost:8080/"
        }
      },
      "outputs": [
        {
          "output_type": "stream",
          "name": "stdout",
          "text": [
            "{'서울': 957, '부산': 339, '인천': 294, '대구': 242}\n",
            "{'부산': 339}\n"
          ]
        }
      ],
      "source": [
        "city_population = {\n",
        "    '서울': 957, '부산': 339, '인천': 294, '대구': 242, '광주': 145, '대전': 147,\n",
        "    '울산': 114, '세종': 36, '수원': 115, '창원': 103, '고양': 105, '용인': 108, '성남': 94\n",
        "}\n",
        "\n",
        "# 인구 200만명 이상의 도시 리스트\n",
        "large_cities = {city: pop for city, pop in city_population.items() if pop >= 200}\n",
        "print(large_cities)\n",
        "\n",
        "# 인구 300만 이상 및 이름에 '산'이 포함된 도시 리스트\n",
        "large_short_name_cities = {city: pop for city, pop in city_population.items() if pop >= 300 and\n",
        "                           '산' in city}\n",
        "print(large_short_name_cities)"
      ]
    },
    {
      "cell_type": "markdown",
      "metadata": {
        "id": "njDOfr1LFqlf"
      },
      "source": [
        "## 2-3 문자열 형식화"
      ]
    },
    {
      "cell_type": "code",
      "execution_count": 24,
      "metadata": {
        "id": "fzO0h6KfFqlg",
        "outputId": "b6072a84-8d67-4d25-e844-cf0c8dd2855c",
        "colab": {
          "base_uri": "https://localhost:8080/"
        }
      },
      "outputs": [
        {
          "output_type": "stream",
          "name": "stdout",
          "text": [
            "이름: 홍길동, 월급: 3500000원, 나이: 30, 월급: 3500000원\n"
          ]
        }
      ],
      "source": [
        "from logging import BASIC_FORMAT\n",
        "name = '홍길동'\n",
        "age = 30\n",
        "salary = 3500000\n",
        "tax_rate = 0.1\n",
        "\n",
        "# C 스타일 문자열 포매팅\n",
        "# 이름, 나이, 월급 출력\n",
        "#basic_format = '이름: %s, 나이: %f, 월급: %d원' % (name, age, salary)\n",
        "#basic_format = '이름: {}, 나이: {}, 월급: {}원' .format(name, age, salary)\n",
        "basic_format = '이름: {0}, 월급: {2}원, 나이: {1}, 월급: {2}원' .format(name, age, salary)\n",
        "# 직원이름, 나이, 세후 월급 출력\n",
        "\n",
        "\n",
        "# 직원이름, 나이, 월급, 세금, 실수령액 추력\n",
        "\n",
        "\n",
        "print(basic_format)\n",
        "#print(index_format)\n",
        "#print(keyword_format)"
      ]
    },
    {
      "cell_type": "code",
      "source": [
        "name = '홍길동'\n",
        "age = 30\n",
        "salary = 3500000\n",
        "tax_rate = 0.1\n",
        "\n",
        "# str.format 문자열 포매팅\n",
        "# 이름, 나이, 월급 출력\n",
        "\n",
        "# 직원이름, 나이, 세후 월급 출력\n",
        "\n",
        "# 직원이름, 나이, 월급, 세금, 실수령액 추력\n",
        "\n",
        "\n",
        "print(basic_format)\n",
        "print(index_format)\n",
        "print(keyword_format)"
      ],
      "metadata": {
        "id": "cIvmmcQux_ph"
      },
      "execution_count": null,
      "outputs": []
    },
    {
      "cell_type": "code",
      "source": [
        "name = '홍길동'\n",
        "age = 30\n",
        "salary = 3500000\n",
        "tax_rate = 0.1\n",
        "\n",
        "# f-문자열 포매팅\n",
        "# 이름, 나이, 월급 출력\n",
        "basic_format = F'이름: {name}, 나이: {age}, 월급: {salary:,}원'\n",
        "# 직원이름, 나이, 세후 월급 출력\n",
        "\n",
        "# 직원이름, 나이, 월급, 세금, 실수령액 추력\n",
        "\n",
        "\n",
        "print(basic_format)\n",
        "#print(index_format)\n",
        "#print(keyword_format)"
      ],
      "metadata": {
        "id": "EIO3z-XQx_ce",
        "outputId": "567b7569-4b5f-4747-98c9-684ec8bf9e99",
        "colab": {
          "base_uri": "https://localhost:8080/"
        }
      },
      "execution_count": 27,
      "outputs": [
        {
          "output_type": "stream",
          "name": "stdout",
          "text": [
            "이름: 홍길동, 나이: 30, 월급: 3,500,000원\n"
          ]
        }
      ]
    },
    {
      "cell_type": "markdown",
      "metadata": {
        "id": "6lnhCleJFqlg"
      },
      "source": [
        "## 2-4 컨텍스트 관리"
      ]
    },
    {
      "cell_type": "code",
      "execution_count": 36,
      "metadata": {
        "id": "eFpmQp3QFqlh"
      },
      "outputs": [],
      "source": [
        "# 파일 오픈 & 클로즈\n",
        "#file = open('output.txt', 'w')\n",
        "#file.write('Hello, world!\\n')\n",
        "#file.close()\n",
        "\n",
        "with open('output.txt', 'w') as file_write:\n",
        "    file_write.write('Hello, world!\\n')"
      ]
    },
    {
      "cell_type": "code",
      "execution_count": null,
      "metadata": {
        "id": "D0aOLti0Fqlh"
      },
      "outputs": [],
      "source": [
        "# 복수개의 파일(읽기 & 쓰기) 관리\n",
        "\n"
      ]
    },
    {
      "cell_type": "code",
      "execution_count": null,
      "metadata": {
        "id": "6SE0rrD5Fqli"
      },
      "outputs": [],
      "source": [
        "import urllib.request\n",
        "\n",
        "# URL 연결 관리\n",
        "('https://raw.githubusercontent.com/jaehwachung/Data-Analysis-with-Open-Source/refs/heads/main/Chapter%203/students.csv')\n",
        "    data = response.read( ).decode('utf-8')\n",
        "\n",
        "print(data)"
      ]
    }
  ],
  "metadata": {
    "colab": {
      "provenance": [],
      "include_colab_link": true
    },
    "kernelspec": {
      "display_name": "Python 3",
      "name": "python3"
    },
    "language_info": {
      "name": "python"
    }
  },
  "nbformat": 4,
  "nbformat_minor": 0
}